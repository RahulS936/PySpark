{
 "cells": [
  {
   "cell_type": "markdown",
   "id": "454b3fca",
   "metadata": {},
   "source": [
    "# This notebook finds the Min & Max temprature for every station in the dataset."
   ]
  },
  {
   "cell_type": "code",
   "execution_count": 1,
   "id": "ff997261",
   "metadata": {},
   "outputs": [],
   "source": [
    "import findspark\n",
    "findspark.init()"
   ]
  },
  {
   "cell_type": "code",
   "execution_count": 2,
   "id": "6e7c4467",
   "metadata": {},
   "outputs": [],
   "source": [
    "from pyspark import SparkConf, SparkContext"
   ]
  },
  {
   "cell_type": "code",
   "execution_count": 3,
   "id": "8ac301cd",
   "metadata": {},
   "outputs": [],
   "source": [
    "conf = SparkConf().setMaster('local').setAppName('Min-Temp')\n",
    "sc = SparkContext(conf = conf)"
   ]
  },
  {
   "cell_type": "code",
   "execution_count": 4,
   "id": "98942e9d",
   "metadata": {},
   "outputs": [],
   "source": [
    "def parseLine(line):\n",
    "    fields = line.split(',')\n",
    "    stationId = fields[0]\n",
    "    entryType = fields[2]\n",
    "    temprature = float(fields[3]) * 0.1 * (9.0/5.0) + 32.0\n",
    "    return (stationId, entryType, temprature)"
   ]
  },
  {
   "cell_type": "code",
   "execution_count": 5,
   "id": "af2afd4f",
   "metadata": {},
   "outputs": [],
   "source": [
    "lines = sc.textFile(\"file:///PySpark/Key-Value_RDD/1800.csv\")\n",
    "parsedlines = lines.map(parseLine)"
   ]
  },
  {
   "cell_type": "code",
   "execution_count": 6,
   "id": "42cce971",
   "metadata": {},
   "outputs": [],
   "source": [
    "minTemps = parsedlines.filter(lambda x: \"TMIN\" in x[1])\n",
    "stationTemps = minTemps.map(lambda x: (x[0], x[2]))\n",
    "stationMin = stationTemps.reduceByKey(lambda x, y: min(x,y))\n",
    "resultsMin = stationMin.collect()"
   ]
  },
  {
   "cell_type": "code",
   "execution_count": 7,
   "id": "ec0e3325",
   "metadata": {},
   "outputs": [
    {
     "name": "stdout",
     "output_type": "stream",
     "text": [
      "ITE00100554\t5.36F\n",
      "EZE00100082\t7.70F\n"
     ]
    }
   ],
   "source": [
    "for result in resultsMin:\n",
    "    print (f\"{result[0]}\\t{result[1]:.2f}F\")"
   ]
  },
  {
   "cell_type": "code",
   "execution_count": 8,
   "id": "01f86971",
   "metadata": {},
   "outputs": [],
   "source": [
    "maxTemps = parsedlines.filter(lambda x: \"TMAX\" in x[1])\n",
    "stationTemps = maxTemps.map(lambda x: (x[0], x[2]))\n",
    "stationMax = stationTemps.reduceByKey(lambda x, y: max(x,y))\n",
    "resultsMax = stationMax.collect()"
   ]
  },
  {
   "cell_type": "code",
   "execution_count": 9,
   "id": "a2a3ed89",
   "metadata": {},
   "outputs": [
    {
     "name": "stdout",
     "output_type": "stream",
     "text": [
      "ITE00100554\t90.14F\n",
      "EZE00100082\t90.14F\n"
     ]
    }
   ],
   "source": [
    "for result in resultsMax:\n",
    "    print (f\"{result[0]}\\t{result[1]:.2f}F\")"
   ]
  }
 ],
 "metadata": {
  "kernelspec": {
   "display_name": "Python 3 (ipykernel)",
   "language": "python",
   "name": "python3"
  },
  "language_info": {
   "codemirror_mode": {
    "name": "ipython",
    "version": 3
   },
   "file_extension": ".py",
   "mimetype": "text/x-python",
   "name": "python",
   "nbconvert_exporter": "python",
   "pygments_lexer": "ipython3",
   "version": "3.8.10"
  }
 },
 "nbformat": 4,
 "nbformat_minor": 5
}
