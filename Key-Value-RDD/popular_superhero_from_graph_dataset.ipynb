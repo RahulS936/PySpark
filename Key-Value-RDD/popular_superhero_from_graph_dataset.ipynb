{
 "cells": [
  {
   "cell_type": "markdown",
   "id": "75c6de61",
   "metadata": {},
   "source": [
    "# This notebook finds the most popular super hero with maximum co-appearances from Marvel Graph dataset."
   ]
  },
  {
   "cell_type": "code",
   "execution_count": 1,
   "id": "8ff855a3",
   "metadata": {},
   "outputs": [],
   "source": [
    "import findspark\n",
    "findspark.init()"
   ]
  },
  {
   "cell_type": "code",
   "execution_count": 2,
   "id": "adb1958a",
   "metadata": {},
   "outputs": [],
   "source": [
    "from pyspark import SparkConf, SparkContext"
   ]
  },
  {
   "cell_type": "code",
   "execution_count": 3,
   "id": "8e9ec41d",
   "metadata": {},
   "outputs": [],
   "source": [
    "conf = SparkConf().setMaster('local').setAppName('SuperHero')\n",
    "sc = SparkContext(conf = conf)"
   ]
  },
  {
   "cell_type": "code",
   "execution_count": 4,
   "id": "4274482e",
   "metadata": {},
   "outputs": [],
   "source": [
    "def countCoOccurences(line):\n",
    "    elements = line.split()\n",
    "    return (int(elements[0]), len(elements) - 1)"
   ]
  },
  {
   "cell_type": "code",
   "execution_count": 5,
   "id": "d7e316fe",
   "metadata": {},
   "outputs": [],
   "source": [
    "def parseNames(line):\n",
    "    fields = line.split('\\\"')\n",
    "    return (int(fields[0]), fields[1])"
   ]
  },
  {
   "cell_type": "code",
   "execution_count": 6,
   "id": "e46161a0",
   "metadata": {},
   "outputs": [],
   "source": [
    "names = sc.textFile(\"file:///PySpark/Key-Value_RDD/marvel-names.txt\")\n",
    "namesRdd = names.map(parseNames)"
   ]
  },
  {
   "cell_type": "code",
   "execution_count": 7,
   "id": "c09e79eb",
   "metadata": {},
   "outputs": [],
   "source": [
    "lines = sc.textFile(\"file:///PySpark/Key-Value_RDD/marvel-graph.txt\")\n",
    "pairings = lines.map(countCoOccurences)"
   ]
  },
  {
   "cell_type": "code",
   "execution_count": 14,
   "id": "56b0afc4",
   "metadata": {},
   "outputs": [],
   "source": [
    "totalFriendsByCharacter = pairings.reduceByKey(lambda x, y : x + y)\n",
    "mostPopular = totalFriendsByCharacter.max(lambda x: x[1])\n",
    "mostPopularName = namesRdd.lookup(mostPopular[0])[0]"
   ]
  },
  {
   "cell_type": "code",
   "execution_count": 15,
   "id": "e580d447",
   "metadata": {},
   "outputs": [
    {
     "name": "stdout",
     "output_type": "stream",
     "text": [
      "CAPTAIN AMERICA is the most popular superhero, with 1933 co-appearances.\n"
     ]
    }
   ],
   "source": [
    "print(str(mostPopularName) + \" is the most popular superhero, with \" + \\\n",
    "    str(mostPopular[1]) + \" co-appearances.\")"
   ]
  },
  {
   "cell_type": "code",
   "execution_count": null,
   "id": "407ab235",
   "metadata": {},
   "outputs": [],
   "source": []
  }
 ],
 "metadata": {
  "kernelspec": {
   "display_name": "Python 3 (ipykernel)",
   "language": "python",
   "name": "python3"
  },
  "language_info": {
   "codemirror_mode": {
    "name": "ipython",
    "version": 3
   },
   "file_extension": ".py",
   "mimetype": "text/x-python",
   "name": "python",
   "nbconvert_exporter": "python",
   "pygments_lexer": "ipython3",
   "version": "3.8.10"
  }
 },
 "nbformat": 4,
 "nbformat_minor": 5
}
