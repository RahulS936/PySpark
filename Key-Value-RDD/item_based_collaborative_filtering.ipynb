{
 "cells": [
  {
   "cell_type": "markdown",
   "id": "28928b2e",
   "metadata": {},
   "source": [
    "# This notebook finds the similar movie using Item based Collaborative Filtering method."
   ]
  },
  {
   "cell_type": "code",
   "execution_count": 1,
   "id": "688e7e7d",
   "metadata": {},
   "outputs": [],
   "source": [
    "import findspark\n",
    "findspark.init()"
   ]
  },
  {
   "cell_type": "code",
   "execution_count": 2,
   "id": "3a8a3b37",
   "metadata": {},
   "outputs": [],
   "source": [
    "import sys\n",
    "from pyspark import SparkConf, SparkContext\n",
    "from math import sqrt"
   ]
  },
  {
   "cell_type": "code",
   "execution_count": 3,
   "id": "1e0dd5bb",
   "metadata": {},
   "outputs": [],
   "source": [
    "def loadMovieNames():\n",
    "    movieNames = {}\n",
    "    with open(\"ml-100k/u.ITEM\", encoding='ascii', errors='ignore') as f:\n",
    "        for line in f:\n",
    "            fields = line.split('|')\n",
    "            movieNames[int(fields[0])] = fields[1]\n",
    "    return movieNames"
   ]
  },
  {
   "cell_type": "code",
   "execution_count": 4,
   "id": "3186607f",
   "metadata": {},
   "outputs": [],
   "source": [
    "def makePairs(userRatings):\n",
    "    ratings = userRatings[1]\n",
    "    (movie1, rating1) = ratings[0]\n",
    "    (movie2, rating2) = ratings[1]\n",
    "    return ((movie1, movie2), (rating1, rating2))"
   ]
  },
  {
   "cell_type": "code",
   "execution_count": 5,
   "id": "d564993b",
   "metadata": {},
   "outputs": [],
   "source": [
    "def filterDuplicates(userRatings):\n",
    "    ratings = userRatings[1]\n",
    "    (movie1, rating1) = ratings[0]\n",
    "    (movie2, rating2) = ratings[1]\n",
    "    return movie1 < movie2"
   ]
  },
  {
   "cell_type": "code",
   "execution_count": 6,
   "id": "811bc8bd",
   "metadata": {},
   "outputs": [],
   "source": [
    "def computeCosineSimilarity(ratingPairs):\n",
    "    numPairs = 0\n",
    "    sum_xx = sum_yy = sum_xy = 0\n",
    "    for ratingX, ratingY in ratingPairs:\n",
    "        sum_xx += ratingX * ratingX\n",
    "        sum_yy += ratingY * ratingY\n",
    "        sum_xy += ratingX * ratingY\n",
    "        numPairs += 1\n",
    "\n",
    "    numerator = sum_xy\n",
    "    denominator = sqrt(sum_xx) * sqrt(sum_yy)\n",
    "\n",
    "    score = 0\n",
    "    if (denominator):\n",
    "        score = (numerator / (float(denominator)))\n",
    "\n",
    "    return (score, numPairs)"
   ]
  },
  {
   "cell_type": "code",
   "execution_count": 7,
   "id": "406a6dc1",
   "metadata": {},
   "outputs": [],
   "source": [
    "conf = SparkConf().setMaster(\"local[*]\").setAppName(\"MovieSimilarities\")\n",
    "sc = SparkContext(conf = conf)"
   ]
  },
  {
   "cell_type": "code",
   "execution_count": 8,
   "id": "f94f46d5",
   "metadata": {},
   "outputs": [
    {
     "name": "stdout",
     "output_type": "stream",
     "text": [
      "\n",
      "Loading movie names...\n"
     ]
    }
   ],
   "source": [
    "print(\"\\nLoading movie names...\")\n",
    "nameDict = loadMovieNames()\n",
    "data = sc.textFile(\"file:///SparkCourse/Key-Value RDD/ml-100k/u.data\")"
   ]
  },
  {
   "cell_type": "code",
   "execution_count": 9,
   "id": "048e4e7b",
   "metadata": {},
   "outputs": [],
   "source": [
    "# Map ratings to key / value pairs: user ID => movie ID, rating\n",
    "ratings = data.map(lambda l: l.split()).map(lambda l: (int(l[0]), (int(l[1]), float(l[2]))))"
   ]
  },
  {
   "cell_type": "code",
   "execution_count": 10,
   "id": "530fdce1",
   "metadata": {},
   "outputs": [],
   "source": [
    "# Emit every movie rated together by the same user.\n",
    "# Self-join to find every combination.\n",
    "joinedRatings = ratings.join(ratings)"
   ]
  },
  {
   "cell_type": "code",
   "execution_count": 11,
   "id": "cdfe70cd",
   "metadata": {},
   "outputs": [],
   "source": [
    "# At this point our RDD consists of userID => ((movieID, rating), (movieID, rating))\n",
    "# Filter out duplicate pairs\n",
    "uniqueJoinedRatings = joinedRatings.filter(filterDuplicates)"
   ]
  },
  {
   "cell_type": "code",
   "execution_count": 12,
   "id": "a12c71dc",
   "metadata": {},
   "outputs": [],
   "source": [
    "# Now key by (movie1, movie2) pairs.\n",
    "moviePairs = uniqueJoinedRatings.map(makePairs)"
   ]
  },
  {
   "cell_type": "code",
   "execution_count": 13,
   "id": "5e5d715e",
   "metadata": {},
   "outputs": [],
   "source": [
    "# We now have (movie1, movie2) => (rating1, rating2)\n",
    "# Now collect all ratings for each movie pair and compute similarity\n",
    "moviePairRatings = moviePairs.groupByKey()"
   ]
  },
  {
   "cell_type": "code",
   "execution_count": 14,
   "id": "87d38685",
   "metadata": {},
   "outputs": [],
   "source": [
    "# We now have (movie1, movie2) = > (rating1, rating2), (rating1, rating2) ...\n",
    "# Can now compute similarities.\n",
    "moviePairSimilarities = moviePairRatings.mapValues(computeCosineSimilarity).cache()\n",
    "# Save the results if desired\n",
    "#moviePairSimilarities.sortByKey()\n",
    "#moviePairSimilarities.saveAsTextFile(\"movie-sims\")"
   ]
  },
  {
   "cell_type": "code",
   "execution_count": 16,
   "id": "24c2bec9",
   "metadata": {},
   "outputs": [
    {
     "name": "stdout",
     "output_type": "stream",
     "text": [
      "Top 10 similar movies for Star Wars (1977)\n",
      "Empire Strikes Back, The (1980)\tscore: 0.9895522078385338\tstrength: 345\n",
      "Return of the Jedi (1983)\tscore: 0.9857230861253026\tstrength: 480\n",
      "Raiders of the Lost Ark (1981)\tscore: 0.981760098872619\tstrength: 380\n",
      "20,000 Leagues Under the Sea (1954)\tscore: 0.9789385605497993\tstrength: 68\n",
      "12 Angry Men (1957)\tscore: 0.9776576120448436\tstrength: 109\n",
      "Close Shave, A (1995)\tscore: 0.9775948291054827\tstrength: 92\n",
      "African Queen, The (1951)\tscore: 0.9764692222674887\tstrength: 138\n",
      "Sting, The (1973)\tscore: 0.9751512937740359\tstrength: 204\n",
      "Wrong Trousers, The (1993)\tscore: 0.9748681355460885\tstrength: 103\n",
      "Wallace & Gromit: The Best of Aardman Animation (1996)\tscore: 0.9741816128302572\tstrength: 58\n"
     ]
    }
   ],
   "source": [
    "# Extract similarities for the movie we care about that are \"good\".\n",
    "\n",
    "scoreThreshold = 0.97\n",
    "coOccurenceThreshold = 50\n",
    "\n",
    "# Enter movieID by which you want to find similar movies\n",
    "movieID = 50\n",
    "\n",
    "# Filter for movies with this sim that are \"good\" as defined by\n",
    "# our quality thresholds above\n",
    "filteredResults = moviePairSimilarities.filter(lambda pairSim: \\\n",
    "    (pairSim[0][0] == movieID or pairSim[0][1] == movieID) \\\n",
    "    and pairSim[1][0] > scoreThreshold and pairSim[1][1] > coOccurenceThreshold)\n",
    "\n",
    "# Sort by quality score.\n",
    "results = filteredResults.map(lambda pairSim: (pairSim[1], pairSim[0])).sortByKey(ascending = False).take(10)\n",
    "\n",
    "print(\"Top 10 similar movies for \" + nameDict[movieID])\n",
    "for result in results:\n",
    "    (sim, pair) = result\n",
    "    # Display the similarity result that isn't the movie we're looking at\n",
    "    similarMovieID = pair[0]\n",
    "    if (similarMovieID == movieID):\n",
    "        similarMovieID = pair[1]\n",
    "    print(nameDict[similarMovieID] + \"\\tscore: \" + str(sim[0]) + \"\\tstrength: \" + str(sim[1]))"
   ]
  },
  {
   "cell_type": "code",
   "execution_count": null,
   "id": "e5398c16",
   "metadata": {},
   "outputs": [],
   "source": []
  }
 ],
 "metadata": {
  "kernelspec": {
   "display_name": "Python 3 (ipykernel)",
   "language": "python",
   "name": "python3"
  },
  "language_info": {
   "codemirror_mode": {
    "name": "ipython",
    "version": 3
   },
   "file_extension": ".py",
   "mimetype": "text/x-python",
   "name": "python",
   "nbconvert_exporter": "python",
   "pygments_lexer": "ipython3",
   "version": "3.8.10"
  }
 },
 "nbformat": 4,
 "nbformat_minor": 5
}
